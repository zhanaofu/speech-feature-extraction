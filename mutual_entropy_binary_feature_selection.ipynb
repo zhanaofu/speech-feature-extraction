{
 "cells": [
  {
   "cell_type": "code",
   "execution_count": 1,
   "id": "734b9dc4",
   "metadata": {},
   "outputs": [],
   "source": [
    "import numpy as np\n",
    "import pandas as pd\n",
    "from itertools import combinations, combinations_with_replacement\n",
    "from tqdm.notebook import tqdm"
   ]
  },
  {
   "cell_type": "code",
   "execution_count": 2,
   "id": "6cc3e4ca",
   "metadata": {},
   "outputs": [],
   "source": [
    "def mutual_information(matrix):\n",
    "    \"\"\"Calculating mutual information from tabulated data\"\"\"\n",
    "    total = matrix.sum()\n",
    "    flatM = matrix.ravel()\n",
    "    margin0 = matrix.sum(axis=0)\n",
    "    margin1 = matrix.sum(axis=1)\n",
    "    divisor = np.outer(margin1,margin0).ravel()\n",
    "    indices = flatM.nonzero()\n",
    "    return np.sum(flatM[indices]/total*np.log2(flatM[indices]*total/divisor[indices]))\n",
    "    \n",
    "def mutual_x_y(matrix,feature, output_grouping = True): \n",
    "    \"\"\"Tabulating data based on a feature and the outcome from the full confusion matrix. \n",
    "    If output_grouping is True, the outcome is also grouped based on the feature\"\"\"\n",
    "    if output_grouping:\n",
    "        indices0 = []\n",
    "        indices1 = []\n",
    "        for i,v in enumerate(feature):\n",
    "            if v:\n",
    "                indices1.append(i)\n",
    "            else:\n",
    "                indices0.append(i)\n",
    "\n",
    "        matrix_xy = np.array([[matrix[np.ix_(indices0,indices0)].sum(),\n",
    "                          matrix[np.ix_(indices1,indices0)].sum()],\n",
    "                         [matrix[np.ix_(indices0,indices1)].sum(),\n",
    "                          matrix[np.ix_(indices1,indices1)].sum()]])\n",
    "    else:\n",
    "        a0 = matrix[:,feature].sum(axis=1)\n",
    "        a1 = matrix[:,np.invert(feature)].sum(axis=1)\n",
    "        matrix_xy = np.vstack([a0,a1]).transpose()\n",
    "        \n",
    "    return mutual_information(matrix_xy)\n",
    "    \n",
    "\n",
    "def mutual_xi_xj(counts, indices_i1, indices_j1):\n",
    "    \"\"\"Tabulating the input based on two features\"\"\"\n",
    "    indices_i0 = np.invert(indices_i1)\n",
    "    indices_j0 = np.invert(indices_j1)\n",
    "\n",
    "    matrix_xx = np.array([[counts[indices_i0&indices_j0].sum(),\n",
    "                      counts[indices_i1&indices_j0].sum()],\n",
    "                     [counts[indices_i0&indices_j1].sum(),\n",
    "                      counts[indices_i1&indices_j1].sum()]])\n",
    "    return mutual_information(matrix_xx)\n",
    "\n",
    "\n",
    "# def mutual_xi_y_xj(counts, indices_i1, indices_j1): \n",
    "    \"\"\"Calculating conditional mutual information\"\"\"\n",
    "    #to fill\n",
    "\n",
    "def mRMR(indices, features, MI_xy,MI_xx, x_counts,k):\n",
    "    \"\"\"To minimize MI_xy - (1/k) * MI_xx (Peng et al., 2005)\"\"\"\n",
    "\n",
    "    selected = np.array([],dtype='int')\n",
    "    \n",
    "    for i in range(k):\n",
    "        best = 0\n",
    "        j_max = 0\n",
    "        for j in range(len(indices)):\n",
    "            f = indices[j]\n",
    "            I_xx = 0\n",
    "            for s in selected:\n",
    "                if f < s:       \n",
    "                    a = f\n",
    "                    b = s\n",
    "                else:\n",
    "                    a = s\n",
    "                    b = f\n",
    "                if MI_xx[a,b] == -1:\n",
    "                    MI_xx[a,b] = mutual_xi_xj(x_counts,features[a],features[b])\n",
    "                I_xx += MI_xx[a,b]\n",
    "            if I_xx:\n",
    "                I_xx = I_xx/len(selected)\n",
    "            j_x = MI_xy[f] - I_xx\n",
    "            if j_x > j_max:\n",
    "                j_max = j_x\n",
    "                best = j\n",
    "        selected = np.append(selected, indices[best])\n",
    "        indices=np.delete(indices,best)\n",
    "    \n",
    "    return selected\n",
    "    \n",
    "    \n",
    "class confusion_matrix:\n",
    "    def __init__(self, file_path):\n",
    "        self.df = pd.read_csv(file_path, index_col=0)\n",
    "        self.df.reindex(sorted(self.df.index), axis=0)\n",
    "        self.df.reindex(sorted(self.df.columns), axis=1)\n",
    "        self.matrix = self.df.to_numpy()\n",
    "        self.x_counts = self.matrix.sum(axis=0)\n",
    "        self.n = self.matrix.shape[0]\n",
    "        self.n_features = 2**(self.n-1)\n",
    "\n",
    "\n",
    "    def select(self, feature_lim = None, k = 5, batch_size = 100, output_grouping = True):\n",
    "        \n",
    "        if k >= batch_size:\n",
    "            print('Error: Batch size is smaller than the number of features to be selected')\n",
    "        \n",
    "        self.features = np.array([[j=='1' \n",
    "                                   for j in '1'+np.binary_repr(i, width=self.n-1)] \n",
    "                                   for i in range(self.n_features)])\n",
    "        \n",
    "        print('Computing I(x;y)')\n",
    "        self.MI_xy = np.array([])\n",
    "        for i in tqdm(range(self.n_features)):\n",
    "            self.MI_xy= np.append(self.MI_xy,mutual_x_y(self.matrix,self.features[i],output_grouping))\n",
    "            \n",
    "        self.order = np.arange(self.n_features, dtype='int') #this or the commented line below\n",
    "        np.random.shuffle(self.order)\n",
    "\n",
    "# arranging features according to I(x,y) with a descending order \n",
    "#         self.order = np.argsort(self.MI_xy)\n",
    "        \n",
    "# filtering the features with I(x,y) only       \n",
    "#         if self.feature_lim & self.feature_lim >self.n_features:\n",
    "#             print('Only analyzing the {} features with the highest entropies'.format(feature_lim))\n",
    "#             self.order = self.order[:feature_lim]        \n",
    "        \n",
    "        print('Selecting features with mRMR')\n",
    "        self.MI_xx = -np.ones((len(self.features),len(self.features)))\n",
    "        self.results = np.array([],dtype='int')\n",
    "        for i in tqdm(range(np.ceil(self.n_features/batch_size).astype('int'))):\n",
    "            start = i*batch_size\n",
    "            batch = self.order[start:start+batch_size]\n",
    "            batch = np.append(batch, self.results)\n",
    "            self.results = mRMR(batch, self.features, self.MI_xy, \n",
    "                           self.MI_xx, self.x_counts,k)\n",
    "        self.results = self.results[np.argsort(-self.MI_xy[self.results])]\n",
    "            \n",
    "    def show_selected(self):\n",
    "        print('Printing {} selected features:\\n'.format(len(self.results)))\n",
    "        for i in range(len(self.results)):\n",
    "            j = self.results[i]\n",
    "            f = self.features[j]\n",
    "            print('\\nfeature {}: MI_xy = {}'.format(i+1, self.MI_xy[j]))\n",
    "            print(list(self.df.index[f]),list(self.df.index[np.invert(f)]))"
   ]
  },
  {
   "cell_type": "code",
   "execution_count": 3,
   "id": "c8823bd9",
   "metadata": {},
   "outputs": [],
   "source": [
    "production = confusion_matrix('cm_production.csv')\n",
    "perception = confusion_matrix('cm_perception.csv')"
   ]
  },
  {
   "cell_type": "markdown",
   "id": "2cf8f814",
   "metadata": {},
   "source": [
    "## selection with outcomes coded with features"
   ]
  },
  {
   "cell_type": "code",
   "execution_count": 4,
   "id": "861cda75",
   "metadata": {},
   "outputs": [
    {
     "name": "stdout",
     "output_type": "stream",
     "text": [
      "Computing I(x;y)\n"
     ]
    },
    {
     "data": {
      "application/vnd.jupyter.widget-view+json": {
       "model_id": "b2a3b7939fa5436cac570dc426b7329f",
       "version_major": 2,
       "version_minor": 0
      },
      "text/plain": [
       "  0%|          | 0/32768 [00:00<?, ?it/s]"
      ]
     },
     "metadata": {},
     "output_type": "display_data"
    },
    {
     "name": "stdout",
     "output_type": "stream",
     "text": [
      "Selecting features with mRMR\n"
     ]
    },
    {
     "data": {
      "application/vnd.jupyter.widget-view+json": {
       "model_id": "b9bfb5aff2ea4eb4b51f00d316acdff5",
       "version_major": 2,
       "version_minor": 0
      },
      "text/plain": [
       "  0%|          | 0/328 [00:00<?, ?it/s]"
      ]
     },
     "metadata": {},
     "output_type": "display_data"
    }
   ],
   "source": [
    "production.select()"
   ]
  },
  {
   "cell_type": "code",
   "execution_count": 5,
   "id": "6f2a20fe",
   "metadata": {
    "scrolled": true
   },
   "outputs": [
    {
     "name": "stdout",
     "output_type": "stream",
     "text": [
      "Printing 5 selected features:\n",
      "\n",
      "\n",
      "feature 1: MI_xy = 0.5093390859080247\n",
      "['b', 'd', 'f', 'g', 'k', 'm', 'n', 'p', 't', 'v'] ['ð', 's', 'ʃ', 'z', 'ʒ', 'θ']\n",
      "\n",
      "feature 2: MI_xy = 0.42436985042306735\n",
      "['b', 'd', 'ð', 'g', 'm', 'n', 'z', 'ʒ'] ['f', 'k', 'p', 's', 'ʃ', 't', 'v', 'θ']\n",
      "\n",
      "feature 3: MI_xy = 0.38962125152166394\n",
      "['b', 'd', 'g', 'k', 'm', 'n', 'p', 's', 'ʃ', 't', 'θ'] ['ð', 'f', 'v', 'z', 'ʒ']\n",
      "\n",
      "feature 4: MI_xy = 0.3862844411075436\n",
      "['b', 'd', 'f', 'g', 'k', 'p', 's', 'ʃ', 't', 'ʒ'] ['ð', 'm', 'n', 'v', 'z', 'θ']\n",
      "\n",
      "feature 5: MI_xy = 0.33854511615741234\n",
      "['b', 'f', 'm', 'n', 'p', 's', 'ʃ', 'v', 'z'] ['d', 'ð', 'g', 'k', 't', 'ʒ', 'θ']\n"
     ]
    }
   ],
   "source": [
    "production.show_selected()"
   ]
  },
  {
   "cell_type": "code",
   "execution_count": 6,
   "id": "7fba4c1c",
   "metadata": {},
   "outputs": [
    {
     "name": "stdout",
     "output_type": "stream",
     "text": [
      "Computing I(x;y)\n"
     ]
    },
    {
     "data": {
      "application/vnd.jupyter.widget-view+json": {
       "model_id": "c6370a4122d844e89039158d1db70bca",
       "version_major": 2,
       "version_minor": 0
      },
      "text/plain": [
       "  0%|          | 0/32768 [00:00<?, ?it/s]"
      ]
     },
     "metadata": {},
     "output_type": "display_data"
    },
    {
     "name": "stdout",
     "output_type": "stream",
     "text": [
      "Selecting features with mRMR\n"
     ]
    },
    {
     "data": {
      "application/vnd.jupyter.widget-view+json": {
       "model_id": "2e5716c06a0145bf9241570919a7b3e3",
       "version_major": 2,
       "version_minor": 0
      },
      "text/plain": [
       "  0%|          | 0/328 [00:00<?, ?it/s]"
      ]
     },
     "metadata": {},
     "output_type": "display_data"
    }
   ],
   "source": [
    "perception.select()"
   ]
  },
  {
   "cell_type": "code",
   "execution_count": 7,
   "id": "f197224f",
   "metadata": {
    "scrolled": true
   },
   "outputs": [
    {
     "name": "stdout",
     "output_type": "stream",
     "text": [
      "Printing 5 selected features:\n",
      "\n",
      "\n",
      "feature 1: MI_xy = 0.797844140221025\n",
      "['b', 'd', 'ð', 'g', 'm', 'n', 'v', 'z', 'ʒ'] ['f', 'k', 'p', 's', 'ʃ', 't', 'θ']\n",
      "\n",
      "feature 2: MI_xy = 0.7314791370914703\n",
      "['b', 'd', 'ð', 'g', 'v', 'z', 'ʒ'] ['f', 'k', 'm', 'n', 'p', 's', 'ʃ', 't', 'θ']\n",
      "\n",
      "feature 3: MI_xy = 0.5212657025301919\n",
      "['b', 'd', 'ð', 'f', 'g', 's', 'ʃ', 'v', 'z', 'ʒ', 'θ'] ['k', 'm', 'n', 'p', 't']\n",
      "\n",
      "feature 4: MI_xy = 0.4947515425495316\n",
      "['b', 'ð', 'f', 'k', 'p', 's', 't', 'v', 'θ'] ['d', 'g', 'm', 'n', 'ʃ', 'z', 'ʒ']\n",
      "\n",
      "feature 5: MI_xy = 0.42984161711067137\n",
      "['b', 'ð', 'f', 'm', 'n', 's', 'ʃ', 'v', 'θ'] ['d', 'g', 'k', 'p', 't', 'z', 'ʒ']\n"
     ]
    }
   ],
   "source": [
    "perception.show_selected()"
   ]
  },
  {
   "cell_type": "markdown",
   "id": "cc8aeb92",
   "metadata": {},
   "source": [
    "## selection with original outcomes"
   ]
  },
  {
   "cell_type": "code",
   "execution_count": 8,
   "id": "0ba64bfe",
   "metadata": {},
   "outputs": [],
   "source": [
    "production = confusion_matrix('cm_production.csv')\n",
    "perception = confusion_matrix('cm_perception.csv')"
   ]
  },
  {
   "cell_type": "code",
   "execution_count": 9,
   "id": "af99ff89",
   "metadata": {},
   "outputs": [
    {
     "name": "stdout",
     "output_type": "stream",
     "text": [
      "Computing I(x;y)\n"
     ]
    },
    {
     "data": {
      "application/vnd.jupyter.widget-view+json": {
       "model_id": "229c14c36735483c934897ff50004549",
       "version_major": 2,
       "version_minor": 0
      },
      "text/plain": [
       "  0%|          | 0/32768 [00:00<?, ?it/s]"
      ]
     },
     "metadata": {},
     "output_type": "display_data"
    },
    {
     "name": "stdout",
     "output_type": "stream",
     "text": [
      "Selecting features with mRMR\n"
     ]
    },
    {
     "data": {
      "application/vnd.jupyter.widget-view+json": {
       "model_id": "5de85c64bfc444c583e187029ecee024",
       "version_major": 2,
       "version_minor": 0
      },
      "text/plain": [
       "  0%|          | 0/328 [00:00<?, ?it/s]"
      ]
     },
     "metadata": {},
     "output_type": "display_data"
    }
   ],
   "source": [
    "production.select(output_grouping=False)"
   ]
  },
  {
   "cell_type": "code",
   "execution_count": 10,
   "id": "e63f9ac0",
   "metadata": {},
   "outputs": [
    {
     "name": "stdout",
     "output_type": "stream",
     "text": [
      "Printing 5 selected features:\n",
      "\n",
      "\n",
      "feature 1: MI_xy = 0.5571793506990322\n",
      "['b', 'd', 'f', 'g', 'k', 'm', 'n', 'p', 't'] ['ð', 's', 'ʃ', 'v', 'z', 'ʒ', 'θ']\n",
      "\n",
      "feature 2: MI_xy = 0.46177850928810177\n",
      "['b', 'd', 'ð', 'f', 'g', 'k', 'p', 't', 'v'] ['m', 'n', 's', 'ʃ', 'z', 'ʒ', 'θ']\n",
      "\n",
      "feature 3: MI_xy = 0.4202892797967932\n",
      "['b', 'd', 'f', 'g', 'k', 'p', 's', 'ʃ', 't', 'v', 'z', 'θ'] ['ð', 'm', 'n', 'ʒ']\n",
      "\n",
      "feature 4: MI_xy = 0.4140781606277476\n",
      "['b', 'f', 'm', 'n', 'p', 's', 'ʃ', 't', 'v', 'θ'] ['d', 'ð', 'g', 'k', 'z', 'ʒ']\n",
      "\n",
      "feature 5: MI_xy = 0.39842701337218783\n",
      "['b', 'd', 'ð', 'g', 'k', 'm', 'n', 'p', 's', 'ʃ', 't', 'θ'] ['f', 'v', 'z', 'ʒ']\n"
     ]
    }
   ],
   "source": [
    "production.show_selected()"
   ]
  },
  {
   "cell_type": "code",
   "execution_count": 11,
   "id": "fea26cf6",
   "metadata": {
    "scrolled": true
   },
   "outputs": [
    {
     "name": "stdout",
     "output_type": "stream",
     "text": [
      "Computing I(x;y)\n"
     ]
    },
    {
     "data": {
      "application/vnd.jupyter.widget-view+json": {
       "model_id": "d177fb697fd048fa91fadf8e475e104a",
       "version_major": 2,
       "version_minor": 0
      },
      "text/plain": [
       "  0%|          | 0/32768 [00:00<?, ?it/s]"
      ]
     },
     "metadata": {},
     "output_type": "display_data"
    },
    {
     "name": "stdout",
     "output_type": "stream",
     "text": [
      "Selecting features with mRMR\n"
     ]
    },
    {
     "data": {
      "application/vnd.jupyter.widget-view+json": {
       "model_id": "05f61eae73104ab288cb97b425e56a82",
       "version_major": 2,
       "version_minor": 0
      },
      "text/plain": [
       "  0%|          | 0/328 [00:00<?, ?it/s]"
      ]
     },
     "metadata": {},
     "output_type": "display_data"
    }
   ],
   "source": [
    "perception.select(output_grouping=False)"
   ]
  },
  {
   "cell_type": "code",
   "execution_count": 12,
   "id": "9c29d031",
   "metadata": {},
   "outputs": [
    {
     "name": "stdout",
     "output_type": "stream",
     "text": [
      "Printing 5 selected features:\n",
      "\n",
      "\n",
      "feature 1: MI_xy = 0.8111237162102998\n",
      "['b', 'd', 'ð', 'g', 'm', 'n', 'v', 'z', 'ʒ'] ['f', 'k', 'p', 's', 'ʃ', 't', 'θ']\n",
      "\n",
      "feature 2: MI_xy = 0.6819662411754388\n",
      "['b', 'd', 'ð', 'g', 'ʃ', 'v', 'z', 'ʒ'] ['f', 'k', 'm', 'n', 'p', 's', 't', 'θ']\n",
      "\n",
      "feature 3: MI_xy = 0.5544992649478546\n",
      "['b', 'd', 'ð', 'f', 'g', 's', 'ʃ', 'v', 'z', 'ʒ', 'θ'] ['k', 'm', 'n', 'p', 't']\n",
      "\n",
      "feature 4: MI_xy = 0.5409013256412882\n",
      "['b', 'ð', 'f', 'k', 'p', 's', 't', 'v', 'θ'] ['d', 'g', 'm', 'n', 'ʃ', 'z', 'ʒ']\n",
      "\n",
      "feature 5: MI_xy = 0.4785589520246602\n",
      "['b', 'f', 'm', 'n', 's', 'ʃ', 'θ'] ['d', 'ð', 'g', 'k', 'p', 't', 'v', 'z', 'ʒ']\n"
     ]
    }
   ],
   "source": [
    "perception.show_selected()"
   ]
  }
 ],
 "metadata": {
  "kernelspec": {
   "display_name": "Python 3",
   "language": "python",
   "name": "python3"
  },
  "language_info": {
   "codemirror_mode": {
    "name": "ipython",
    "version": 3
   },
   "file_extension": ".py",
   "mimetype": "text/x-python",
   "name": "python",
   "nbconvert_exporter": "python",
   "pygments_lexer": "ipython3",
   "version": "3.8.5"
  }
 },
 "nbformat": 4,
 "nbformat_minor": 5
}

{
 "cells": [
  {
   "cell_type": "markdown",
   "id": "93a3e64d",
   "metadata": {},
   "source": [
    "# Extracting binary features from confusion matrices"
   ]
  },
  {
   "cell_type": "markdown",
   "id": "f77f777d",
   "metadata": {},
   "source": [
    "A binary feature for n items is coded as an array of n binary values. This script finds the k best features from all x<sup>n-1</sup> possible features to describe all the items by considering mutual entropies between the input feature and output, and the mutual information between the input features."
   ]
  },
  {
   "cell_type": "code",
   "execution_count": 1,
   "id": "734b9dc4",
   "metadata": {},
   "outputs": [],
   "source": [
    "import numpy as np\n",
    "import pandas as pd\n",
    "from itertools import combinations, combinations_with_replacement\n",
    "from tqdm.notebook import tqdm"
   ]
  },
  {
   "cell_type": "code",
   "execution_count": 2,
   "id": "6cc3e4ca",
   "metadata": {},
   "outputs": [],
   "source": [
    "def mutual_information(matrix):\n",
    "    \"\"\"Calculating mutual information from tabulated data\"\"\"\n",
    "    total = matrix.sum()\n",
    "    flatM = matrix.ravel()\n",
    "    margin0 = matrix.sum(axis=0)\n",
    "    margin1 = matrix.sum(axis=1)\n",
    "    divisor = np.outer(margin1,margin0).ravel()\n",
    "    indices = flatM.nonzero()\n",
    "    return np.sum(flatM[indices]/total*np.log2(flatM[indices]*total/divisor[indices]))\n",
    "    \n",
    "def mutual_x_y(matrix,feature, output_grouping = True): \n",
    "    \"\"\"Tabulating data based on a feature and the outcome from the full confusion matrix. \n",
    "    If output_grouping is True, the outcome is also grouped based on the feature\"\"\"\n",
    "    if output_grouping:\n",
    "        indices0 = []\n",
    "        indices1 = []\n",
    "        for i,v in enumerate(feature):\n",
    "            if v:\n",
    "                indices1.append(i)\n",
    "            else:\n",
    "                indices0.append(i)\n",
    "\n",
    "        matrix_xy = np.array([[matrix[np.ix_(indices0,indices0)].sum(),\n",
    "                          matrix[np.ix_(indices1,indices0)].sum()],\n",
    "                         [matrix[np.ix_(indices0,indices1)].sum(),\n",
    "                          matrix[np.ix_(indices1,indices1)].sum()]])\n",
    "    else:\n",
    "        a0 = matrix[:,feature].sum(axis=1)\n",
    "        a1 = matrix[:,np.invert(feature)].sum(axis=1)\n",
    "        matrix_xy = np.vstack([a0,a1]).transpose()\n",
    "        \n",
    "    return mutual_information(matrix_xy)\n",
    "    \n",
    "\n",
    "def mutual_xi_xj(counts, indices_i1, indices_j1):\n",
    "    \"\"\"Tabulating the input based on two features\"\"\"\n",
    "    indices_i0 = np.invert(indices_i1)\n",
    "    indices_j0 = np.invert(indices_j1)\n",
    "\n",
    "    matrix_xx = np.array([[counts[indices_i0&indices_j0].sum(),\n",
    "                      counts[indices_i1&indices_j0].sum()],\n",
    "                     [counts[indices_i0&indices_j1].sum(),\n",
    "                      counts[indices_i1&indices_j1].sum()]])\n",
    "    return mutual_information(matrix_xx)\n",
    "\n",
    "\n",
    "def mutual_xi_xj_Y(cm, indices_i1, indices_j1): \n",
    "    \"\"\"Calculating conditional mutual information\"\"\"\n",
    "    mi = 0\n",
    "    for r in range(cm.ny):\n",
    "        mi+= cm.py[r]*mutual_xi_xj(cm.matrix[r,], indices_i1, indices_j1)\n",
    "    return mi\n",
    "\n",
    "def J(cm,k,method):\n",
    "    indices = cm.order\n",
    "    selected = np.array([],dtype='int')\n",
    "    \n",
    "    for i in range(k):\n",
    "        best = 0\n",
    "        j_max = 0\n",
    "        for j in range(len(indices)):\n",
    "            f = indices[j]\n",
    "            I_xx = 0\n",
    "            I_xx_Y = 0\n",
    "            j_x = cm.MI_xy[f]\n",
    "            for s in selected:\n",
    "                if f < s:       \n",
    "                    a = f\n",
    "                    b = s\n",
    "                else:\n",
    "                    a = s\n",
    "                    b = f\n",
    "                j_x += method(cm,(a,b),I_xx,I_xx_Y,len(selected)) \n",
    "            if j_x > j_max:\n",
    "                j_max = j_x\n",
    "                best = j\n",
    "        selected = np.append(selected, indices[best])\n",
    "        indices=np.delete(indices,best)\n",
    "    return selected\n",
    "    \n",
    "def mRMR(cm,p,I_xx,I_xx_Y,n):\n",
    "    \"\"\"To maximize MI_xy - (1/k) * MI_xx (Peng et al., 2005)\"\"\"\n",
    "    if not p in cm.MI_xx:\n",
    "        cm.MI_xx[p] = mutual_xi_xj(cm.x_counts,cm.features[p[0]],cm.features[p[1]])                  \n",
    "    I_xx += cm.MI_xx[p]\n",
    "    if I_xx:\n",
    "        I_xx = I_xx/n\n",
    "\n",
    "    return  -I_xx\n",
    "\n",
    "def custom(cm,p,I_xx,I_xx_Y,n):\n",
    "    \"\"\"customized J(x) with MI_xx = 1\"\"\"\n",
    "    if not p in cm.MI_xx:\n",
    "        cm.MI_xx[p] = mutual_xi_xj(cm.x_counts,cm.features[p[0]],cm.features[p[1]])                  \n",
    "    I_xx += cm.MI_xx[p]\n",
    "    return -I_xx\n",
    "\n",
    "    \n",
    "def DCSF(cm,p,I_xx,I_xx_Y,n):\n",
    "    \"\"\"(Gao et al., 2018)\"\"\"\n",
    "    if not p in cm.MI_xx:\n",
    "        cm.MI_xx[p] = mutual_xi_xj(cm.x_counts,cm.features[p[0]],cm.features[p[1]]) \n",
    "    if not p in cm.MI_xx_Y:\n",
    "        cm.MI_xx_Y[p] = mutual_xi_xj_Y(cm,cm.features[p[0]],cm.features[p[1]]) \n",
    "    I_xx += cm.MI_xx[p]\n",
    "    I_xx_Y += cm.MI_xx_Y[p]\n",
    "    if I_xx:\n",
    "        I_xx = I_xx/n\n",
    "        I_xx_Y = I_xx_Y/n\n",
    "\n",
    "    return -3 * I_xx + 2 * I_xx_Y\n",
    "\n",
    "def JMI(cm,p,I_xx,I_xx_Y,n):\n",
    "    \"\"\"(Yang and Moody, 2000)\"\"\"\n",
    "    if not p in cm.MI_xx:\n",
    "        cm.MI_xx[p] = mutual_xi_xj(cm.x_counts,cm.features[p[0]],cm.features[p[1]]) \n",
    "    if not p in cm.MI_xx_Y:\n",
    "        cm.MI_xx_Y[p] = mutual_xi_xj_Y(cm,cm.features[p[0]],cm.features[p[1]]) \n",
    "    I_xx += cm.MI_xx[p]\n",
    "    I_xx_Y += cm.MI_xx_Y[p]\n",
    "    if I_xx:\n",
    "        I_xx = I_xx/n\n",
    "        I_xx_Y = I_xx_Y/n\n",
    "    \n",
    "    return  -I_xx + I_xx_Y\n",
    "    \n",
    "class confusion_matrix:\n",
    "    def __init__(self, file_path):\n",
    "        self.df = pd.read_csv(file_path, index_col=0)\n",
    "        self.df.reindex(sorted(self.df.index), axis=0)\n",
    "        self.df.reindex(sorted(self.df.columns), axis=1)\n",
    "        \n",
    "        self.matrix = self.df.to_numpy()\n",
    "        self.x_counts = self.matrix.sum(axis=0)\n",
    "        self.n = self.matrix.shape[0]\n",
    "        self.ny = self.matrix.shape[1]\n",
    "        self.n_features = 2**(self.n-1)\n",
    "        self.py = self.matrix.sum(axis=1)/self.matrix.sum()\n",
    "        self.results = dict()\n",
    "        self.same_items= dict()\n",
    "        \n",
    "        self.MI_xy = np.array([])\n",
    "        self.MI_xx = dict()\n",
    "        # Uppercase Y means Y is the conditioning variable\n",
    "        self.MI_xx_Y = dict()\n",
    "        \n",
    "    def not_diff(self, method):\n",
    "        results = self.results[method]\n",
    "        self.same_items[method]=[]\n",
    "        for i in range(len(results)):\n",
    "            j = results[i]\n",
    "            f = self.features[j]\n",
    "            if not i:\n",
    "                fs = f\n",
    "            else:\n",
    "                fs = np.vstack([fs, f])\n",
    "        \n",
    "        for i in range(fs.shape[1]):\n",
    "            for j in range(i+1,fs.shape[1]):\n",
    "                if (fs[:,i]==fs[:,j]).all():\n",
    "                    self.same_items[method].append([self.df.index[i],self.df.index[j]])\n",
    "        \n",
    "\n",
    "    def select(self, feature_lim = None, k = False, method = \"DCSF\", output_grouping = False):\n",
    "        \n",
    "        \n",
    "        self.features = np.array([[j=='1' \n",
    "                                   for j in '1'+np.binary_repr(i, width=self.n-1)] \n",
    "                                   for i in range(self.n_features)])\n",
    "        \n",
    "        if self.MI_xy.size==0:     \n",
    "            print('Computing I(x;y)')\n",
    "\n",
    "            for i in tqdm(range(self.n_features)):\n",
    "                self.MI_xy= np.append(self.MI_xy,mutual_x_y(self.matrix,self.features[i],output_grouping))\n",
    "\n",
    "        self.order = np.arange(self.n_features, dtype='int')  \n",
    "      \n",
    "        \n",
    "        if not k:\n",
    "            k = int(np.ceil(np.log2(self.n)))\n",
    "            self.same_items[method]=True\n",
    "            print('Selecting features to differentiate all items with {}'.format(method))\n",
    "            print('Number of features being selected: ',end='')\n",
    "            while bool(self.same_items[method]):\n",
    "                if k > self.n:\n",
    "                    break\n",
    "                print('{} '.format(k),end='')\n",
    "                exec('self.results[method] = J(self,{},{})'.format(k,method))\n",
    "                self.not_diff(method)\n",
    "                k+=1\n",
    "            print('')\n",
    "        else:\n",
    "            print('Selecting {} features with {}'.format(k,method))\n",
    "            exec('self.results[method] = J(self,{},{})'.format(k,method))\n",
    "            self.not_diff(method)\n",
    "        \n",
    "#         self.results[method] = self.results[method][np.argsort(-self.MI_xy[self.results[method]])]\n",
    "        \n",
    "    def show_selected(self, method):\n",
    "        results = self.results[method]\n",
    "        print('Printing {} selected features:'.format(len(results)))\n",
    "        print('  | '+(' | ').join(production.df.index)+ ' | MI_xy')\n",
    "        \n",
    "        for i in range(len(results)):\n",
    "            j = results[i]\n",
    "                \n",
    "            print('{:<2}'.format(i+1)+'| '+\n",
    "                  ' | '.join(('x'+np.binary_repr(j, width=self.n-1)).replace('1','x').replace('0',' '))+ \n",
    "                  ' | {:.4f}'.format(self.MI_xy[j]))\n",
    "    \n",
    "        print('\\n'+'-'*40)\n",
    "        print('\\nPairs of items that cannot be differentiated with the selected features:')\n",
    "\n",
    "        if bool(self.same_items[method]):\n",
    "            for i in self.same_items[method]:\n",
    "                print(i)\n",
    "        else:\n",
    "            print('None!')"
   ]
  },
  {
   "cell_type": "markdown",
   "id": "cc8aeb92",
   "metadata": {},
   "source": [
    "## selection with original outcomes"
   ]
  },
  {
   "cell_type": "code",
   "execution_count": 3,
   "id": "0ba64bfe",
   "metadata": {},
   "outputs": [],
   "source": [
    "production = confusion_matrix('cm_production.csv')\n",
    "perception = confusion_matrix('cm_perception.csv')"
   ]
  },
  {
   "cell_type": "code",
   "execution_count": 4,
   "id": "b6cbdd27",
   "metadata": {},
   "outputs": [
    {
     "name": "stdout",
     "output_type": "stream",
     "text": [
      "Computing I(x;y)\n"
     ]
    },
    {
     "data": {
      "application/vnd.jupyter.widget-view+json": {
       "model_id": "998932fb25c443cd98ad4e55fc76c1ea",
       "version_major": 2,
       "version_minor": 0
      },
      "text/plain": [
       "  0%|          | 0/32768 [00:00<?, ?it/s]"
      ]
     },
     "metadata": {},
     "output_type": "display_data"
    },
    {
     "name": "stdout",
     "output_type": "stream",
     "text": [
      "Selecting features to differentiate all items with DCSF\n",
      "Number of features being selected: 4 5 6 7 8 9 10 11 12 13 \n",
      "Selecting features to differentiate all items with mRMR\n",
      "Number of features being selected: 4 5 6 7 8 9 10 11 12 13 14 15 16 \n",
      "Selecting features to differentiate all items with JMI\n",
      "Number of features being selected: 4 5 6 7 8 9 10 11 12 13 14 15 16 \n",
      "Selecting features to differentiate all items with custom\n",
      "Number of features being selected: 4 5 6 7 \n"
     ]
    }
   ],
   "source": [
    "production.select(method = 'DCSF')\n",
    "production.select(method = 'mRMR')\n",
    "production.select(method = 'JMI')\n",
    "production.select(method = 'custom')"
   ]
  },
  {
   "cell_type": "code",
   "execution_count": 5,
   "id": "e63f9ac0",
   "metadata": {},
   "outputs": [
    {
     "name": "stdout",
     "output_type": "stream",
     "text": [
      "Printing 13 selected features:\n",
      "  | b | d | ð | f | g | k | m | n | p | s | ʃ | t | v | z | ʒ | θ | MI_xy\n",
      "1 | x | x |   | x | x | x | x | x | x |   |   | x |   |   |   |   | 0.5572\n",
      "2 | x | x |   |   | x |   | x | x |   | x | x |   |   |   |   | x | 0.3730\n",
      "3 | x | x | x |   | x |   | x | x |   |   |   |   | x | x | x |   | 0.4554\n",
      "4 | x | x |   | x | x |   |   |   | x | x | x |   | x | x |   |   | 0.3564\n",
      "5 | x | x | x | x | x |   |   |   | x |   |   |   |   |   | x | x | 0.3256\n",
      "6 | x | x |   |   | x | x |   |   |   |   |   | x | x | x |   | x | 0.3510\n",
      "7 | x | x | x |   | x | x |   |   |   | x | x | x |   |   | x |   | 0.3764\n",
      "8 | x |   | x | x |   |   |   |   | x | x | x | x | x | x |   |   | 0.3595\n",
      "9 | x |   | x |   |   | x |   |   |   |   | x |   |   | x |   | x | 0.2562\n",
      "10| x |   | x | x |   |   |   | x | x | x | x | x |   | x |   |   | 0.2705\n",
      "11| x |   |   |   |   | x |   | x |   | x |   |   | x | x |   | x | 0.2323\n",
      "12| x | x | x |   | x |   |   | x | x |   |   | x | x | x | x | x | 0.2462\n",
      "13| x | x |   |   |   | x |   |   | x |   |   | x |   | x |   | x | 0.3224\n",
      "\n",
      "----------------------------------------\n",
      "\n",
      "Pairs of items that cannot be differentiated with the selected features:\n",
      "None!\n"
     ]
    }
   ],
   "source": [
    "production.show_selected('DCSF')"
   ]
  },
  {
   "cell_type": "code",
   "execution_count": 6,
   "id": "700aa287",
   "metadata": {},
   "outputs": [
    {
     "name": "stdout",
     "output_type": "stream",
     "text": [
      "Printing 16 selected features:\n",
      "  | b | d | ð | f | g | k | m | n | p | s | ʃ | t | v | z | ʒ | θ | MI_xy\n",
      "1 | x | x |   | x | x | x | x | x | x |   |   | x |   |   |   |   | 0.5572\n",
      "2 | x |   |   | x |   | x |   |   | x | x | x | x | x |   |   | x | 0.4594\n",
      "3 | x |   | x | x | x | x |   |   | x |   |   |   | x | x | x |   | 0.4303\n",
      "4 | x |   |   | x |   |   | x | x | x | x | x |   | x | x |   |   | 0.4030\n",
      "5 | x | x |   |   | x | x | x | x | x | x | x | x |   |   |   |   | 0.4758\n",
      "6 | x | x |   | x | x | x | x | x | x |   |   | x | x |   |   |   | 0.5523\n",
      "7 | x | x |   | x | x | x |   |   | x | x | x | x |   |   |   | x | 0.4702\n",
      "8 | x | x | x |   | x |   |   |   |   |   |   |   | x | x |   |   | 0.4155\n",
      "9 | x |   | x | x |   |   | x | x | x |   |   | x | x |   |   | x | 0.4144\n",
      "10| x | x | x |   | x | x | x | x | x |   |   | x |   |   |   |   | 0.5216\n",
      "11| x | x |   | x |   | x | x | x | x | x |   | x | x | x |   |   | 0.4354\n",
      "12| x | x | x |   | x |   | x | x |   |   |   |   |   |   | x |   | 0.4611\n",
      "13| x | x |   | x | x | x | x | x | x | x |   | x |   |   |   | x | 0.4924\n",
      "14| x | x | x | x | x | x |   |   | x |   |   |   | x |   |   |   | 0.4572\n",
      "15| x |   |   | x | x | x | x | x | x |   |   |   | x | x |   |   | 0.4511\n",
      "16| x | x |   |   | x | x | x | x | x |   |   | x |   |   | x |   | 0.5115\n",
      "\n",
      "----------------------------------------\n",
      "\n",
      "Pairs of items that cannot be differentiated with the selected features:\n",
      "['m', 'n']\n"
     ]
    }
   ],
   "source": [
    "production.show_selected('mRMR')"
   ]
  },
  {
   "cell_type": "code",
   "execution_count": 7,
   "id": "91ea06f7",
   "metadata": {},
   "outputs": [
    {
     "name": "stdout",
     "output_type": "stream",
     "text": [
      "Printing 16 selected features:\n",
      "  | b | d | ð | f | g | k | m | n | p | s | ʃ | t | v | z | ʒ | θ | MI_xy\n",
      "1 | x | x |   | x | x | x | x | x | x |   |   | x |   |   |   |   | 0.5572\n",
      "2 | x |   |   | x |   | x |   |   | x | x | x | x |   |   |   | x | 0.4489\n",
      "3 | x |   | x | x |   | x |   |   | x |   |   | x | x | x | x |   | 0.3787\n",
      "4 | x |   |   | x |   | x | x | x | x |   |   | x | x | x |   |   | 0.4596\n",
      "5 | x | x | x | x | x | x |   |   | x |   |   | x | x |   |   |   | 0.4618\n",
      "6 | x | x |   |   | x | x | x | x | x |   |   | x |   |   | x |   | 0.5115\n",
      "7 | x | x | x |   | x |   | x | x |   |   |   |   | x | x |   |   | 0.4546\n",
      "8 | x | x |   | x | x | x |   |   | x |   |   | x | x | x |   |   | 0.4552\n",
      "9 | x | x | x |   | x | x | x | x | x |   |   | x |   |   |   |   | 0.5216\n",
      "10| x | x |   |   | x | x |   |   | x | x | x | x |   |   |   | x | 0.4404\n",
      "11| x |   |   | x |   | x | x | x | x | x | x | x |   |   |   |   | 0.4531\n",
      "12| x | x |   | x | x | x | x | x | x |   |   | x | x |   |   |   | 0.5523\n",
      "13| x | x | x |   | x |   | x | x |   |   |   |   |   |   | x |   | 0.4611\n",
      "14| x | x | x | x | x | x |   |   | x |   |   | x |   |   | x |   | 0.4170\n",
      "15| x | x |   | x | x | x |   |   | x | x | x | x |   |   |   |   | 0.4564\n",
      "16| x |   |   | x | x | x |   |   | x |   |   |   | x | x | x |   | 0.4413\n",
      "\n",
      "----------------------------------------\n",
      "\n",
      "Pairs of items that cannot be differentiated with the selected features:\n",
      "['k', 'p']\n",
      "['m', 'n']\n",
      "['s', 'ʃ']\n"
     ]
    }
   ],
   "source": [
    "production.show_selected('JMI')"
   ]
  },
  {
   "cell_type": "code",
   "execution_count": 8,
   "id": "7d0eabaa",
   "metadata": {
    "scrolled": true
   },
   "outputs": [
    {
     "name": "stdout",
     "output_type": "stream",
     "text": [
      "Printing 7 selected features:\n",
      "  | b | d | ð | f | g | k | m | n | p | s | ʃ | t | v | z | ʒ | θ | MI_xy\n",
      "1 | x | x |   | x | x | x | x | x | x |   |   | x |   |   |   |   | 0.5572\n",
      "2 | x |   |   | x |   | x |   |   | x | x | x | x | x |   |   | x | 0.4594\n",
      "3 | x |   | x | x | x | x |   |   | x |   |   |   | x | x | x |   | 0.4303\n",
      "4 | x | x |   |   | x | x |   |   |   | x | x |   |   |   | x |   | 0.3868\n",
      "5 | x |   |   | x |   |   | x | x | x | x | x |   |   | x | x |   | 0.3660\n",
      "6 | x | x |   | x |   |   | x |   |   |   |   |   | x |   | x | x | 0.3100\n",
      "7 | x |   |   |   |   | x | x | x |   |   | x | x | x | x | x |   | 0.2791\n",
      "\n",
      "----------------------------------------\n",
      "\n",
      "Pairs of items that cannot be differentiated with the selected features:\n",
      "None!\n"
     ]
    }
   ],
   "source": [
    "production.show_selected('custom')"
   ]
  },
  {
   "cell_type": "code",
   "execution_count": 10,
   "id": "fea26cf6",
   "metadata": {
    "scrolled": true
   },
   "outputs": [
    {
     "name": "stdout",
     "output_type": "stream",
     "text": [
      "Computing I(x;y)\n"
     ]
    },
    {
     "data": {
      "application/vnd.jupyter.widget-view+json": {
       "model_id": "aea6ac488572447aa7ea1704df36c8cb",
       "version_major": 2,
       "version_minor": 0
      },
      "text/plain": [
       "  0%|          | 0/32768 [00:00<?, ?it/s]"
      ]
     },
     "metadata": {},
     "output_type": "display_data"
    },
    {
     "name": "stdout",
     "output_type": "stream",
     "text": [
      "Selecting features to differentiate all items with DCSF\n",
      "Number of features being selected: 4 5 6 7 8 9 10 11 12 13 14 15 16 \n",
      "Selecting features to differentiate all items with mRMR\n",
      "Number of features being selected: 4 5 6 7 8 9 10 11 12 13 14 15 16 \n",
      "Selecting features to differentiate all items with JMI\n",
      "Number of features being selected: 4 5 6 7 8 9 10 11 12 13 14 15 16 \n",
      "Selecting features to differentiate all items with custom\n",
      "Number of features being selected: 4 5 6 7 8 \n"
     ]
    }
   ],
   "source": [
    "perception.select(method='DCSF')\n",
    "perception.select(method='mRMR')\n",
    "perception.select(method='JMI')\n",
    "perception.select(method='custom')"
   ]
  },
  {
   "cell_type": "code",
   "execution_count": 11,
   "id": "9c29d031",
   "metadata": {},
   "outputs": [
    {
     "name": "stdout",
     "output_type": "stream",
     "text": [
      "Printing 16 selected features:\n",
      "  | b | d | ð | f | g | k | m | n | p | s | ʃ | t | v | z | ʒ | θ | MI_xy\n",
      "1 | x | x | x |   | x |   | x | x |   |   |   |   | x | x | x |   | 0.8111\n",
      "2 | x | x | x | x | x | x |   |   | x |   |   | x | x | x | x | x | 0.4666\n",
      "3 | x |   |   | x |   | x | x | x | x |   |   | x | x |   |   | x | 0.4953\n",
      "4 | x |   |   |   |   |   |   |   |   | x | x |   | x |   |   |   | 0.3635\n",
      "5 | x |   | x | x |   |   | x | x |   |   |   |   | x |   |   | x | 0.4499\n",
      "6 | x |   | x |   |   | x |   |   | x | x |   | x | x |   |   |   | 0.3906\n",
      "7 | x | x | x | x | x |   |   |   |   |   | x |   | x | x | x | x | 0.5262\n",
      "8 | x | x |   |   | x |   | x | x |   | x |   |   | x | x | x |   | 0.5208\n",
      "9 | x |   | x |   |   |   | x | x |   |   | x |   | x |   |   |   | 0.4971\n",
      "10| x | x | x |   | x | x |   |   | x |   |   | x | x | x | x |   | 0.5410\n",
      "11| x | x | x | x | x |   |   |   |   | x |   |   | x | x | x | x | 0.5590\n",
      "12| x |   | x | x |   |   |   |   |   | x | x |   | x |   |   | x | 0.4558\n",
      "13| x |   | x |   |   | x |   |   | x |   | x | x | x |   |   |   | 0.4049\n",
      "14| x |   | x |   |   | x | x | x | x |   |   | x | x |   |   |   | 0.4683\n",
      "15| x |   | x | x |   |   | x | x |   | x |   |   | x |   |   | x | 0.4382\n",
      "16| x |   |   | x |   | x |   |   | x | x |   | x | x |   |   | x | 0.5691\n",
      "\n",
      "----------------------------------------\n",
      "\n",
      "Pairs of items that cannot be differentiated with the selected features:\n",
      "['b', 'v']\n",
      "['d', 'g']\n",
      "['d', 'z']\n",
      "['d', 'ʒ']\n",
      "['f', 'θ']\n",
      "['g', 'z']\n",
      "['g', 'ʒ']\n",
      "['k', 'p']\n",
      "['k', 't']\n",
      "['m', 'n']\n",
      "['p', 't']\n",
      "['z', 'ʒ']\n"
     ]
    }
   ],
   "source": [
    "perception.show_selected('DCSF')"
   ]
  },
  {
   "cell_type": "code",
   "execution_count": 12,
   "id": "38a6ff89",
   "metadata": {},
   "outputs": [
    {
     "name": "stdout",
     "output_type": "stream",
     "text": [
      "Printing 16 selected features:\n",
      "  | b | d | ð | f | g | k | m | n | p | s | ʃ | t | v | z | ʒ | θ | MI_xy\n",
      "1 | x | x | x |   | x |   | x | x |   |   |   |   | x | x | x |   | 0.8111\n",
      "2 | x | x | x | x | x |   |   |   |   | x | x |   | x | x | x | x | 0.5545\n",
      "3 | x | x | x |   | x | x |   |   | x |   |   | x | x | x | x |   | 0.5410\n",
      "4 | x |   |   | x |   | x |   |   | x | x |   | x | x |   |   | x | 0.5691\n",
      "5 | x |   | x |   |   |   | x | x |   |   |   |   | x |   |   |   | 0.5447\n",
      "6 | x | x | x |   | x |   |   |   |   | x | x |   | x | x | x |   | 0.6455\n",
      "7 | x |   |   | x |   | x |   |   | x | x | x | x |   |   |   | x | 0.7003\n",
      "8 | x | x | x | x | x |   |   |   |   |   |   |   | x | x | x | x | 0.5914\n",
      "9 | x | x | x |   | x |   |   | x |   |   |   |   | x | x | x |   | 0.7250\n",
      "10| x |   |   |   |   |   | x | x |   | x | x |   | x |   |   |   | 0.4585\n",
      "11| x | x | x |   | x |   | x |   |   |   |   |   | x | x | x |   | 0.7217\n",
      "12| x |   | x | x |   | x |   |   | x | x | x | x | x |   |   | x | 0.5871\n",
      "13| x | x | x |   | x |   |   |   |   |   | x |   | x | x | x |   | 0.6820\n",
      "14| x |   | x |   | x |   | x | x |   |   |   |   | x | x | x |   | 0.6644\n",
      "15| x | x | x | x | x |   |   |   |   | x |   |   | x | x | x | x | 0.5590\n",
      "16| x |   | x | x |   | x |   |   | x |   |   | x | x |   |   | x | 0.5053\n",
      "\n",
      "----------------------------------------\n",
      "\n",
      "Pairs of items that cannot be differentiated with the selected features:\n",
      "['f', 'θ']\n",
      "['g', 'z']\n",
      "['g', 'ʒ']\n",
      "['k', 'p']\n",
      "['k', 't']\n",
      "['p', 't']\n",
      "['z', 'ʒ']\n"
     ]
    }
   ],
   "source": [
    "perception.show_selected('mRMR')"
   ]
  },
  {
   "cell_type": "code",
   "execution_count": 13,
   "id": "3f2cd9a7",
   "metadata": {},
   "outputs": [
    {
     "name": "stdout",
     "output_type": "stream",
     "text": [
      "Printing 16 selected features:\n",
      "  | b | d | ð | f | g | k | m | n | p | s | ʃ | t | v | z | ʒ | θ | MI_xy\n",
      "1 | x | x | x |   | x |   | x | x |   |   |   |   | x | x | x |   | 0.8111\n",
      "2 | x | x | x |   | x | x |   |   | x |   |   | x | x | x | x |   | 0.5410\n",
      "3 | x | x | x | x | x |   |   |   |   | x | x |   | x | x | x | x | 0.5545\n",
      "4 | x |   |   | x |   | x |   |   | x | x |   | x | x |   |   | x | 0.5691\n",
      "5 | x | x | x |   | x |   |   |   |   |   | x |   | x | x | x |   | 0.6820\n",
      "6 | x |   |   |   |   |   | x | x |   |   | x |   | x |   |   |   | 0.4640\n",
      "7 | x |   |   | x |   | x |   |   | x | x | x | x |   |   |   | x | 0.7003\n",
      "8 | x | x | x | x | x |   |   |   |   | x |   |   | x | x | x | x | 0.5590\n",
      "9 | x |   |   | x |   |   | x | x |   | x |   |   | x |   |   | x | 0.4263\n",
      "10| x | x | x |   | x |   | x |   |   |   |   |   | x | x | x |   | 0.7217\n",
      "11| x | x | x |   | x |   |   | x |   |   |   |   | x | x | x |   | 0.7250\n",
      "12| x |   |   |   |   | x | x | x | x |   |   | x | x |   |   |   | 0.4681\n",
      "13| x |   |   | x |   | x |   |   | x | x | x | x | x |   |   | x | 0.6317\n",
      "14| x | x | x |   | x |   |   |   |   | x | x |   | x | x | x |   | 0.6455\n",
      "15| x |   |   | x |   |   | x | x |   | x | x |   | x |   |   | x | 0.4617\n",
      "16| x | x | x |   | x |   |   |   |   |   |   |   | x | x | x |   | 0.7497\n",
      "\n",
      "----------------------------------------\n",
      "\n",
      "Pairs of items that cannot be differentiated with the selected features:\n",
      "['d', 'ð']\n",
      "['d', 'g']\n",
      "['d', 'z']\n",
      "['d', 'ʒ']\n",
      "['ð', 'g']\n",
      "['ð', 'z']\n",
      "['ð', 'ʒ']\n",
      "['f', 'θ']\n",
      "['g', 'z']\n",
      "['g', 'ʒ']\n",
      "['k', 'p']\n",
      "['k', 't']\n",
      "['p', 't']\n",
      "['z', 'ʒ']\n"
     ]
    }
   ],
   "source": [
    "perception.show_selected('JMI')"
   ]
  },
  {
   "cell_type": "code",
   "execution_count": 14,
   "id": "5204ca97",
   "metadata": {},
   "outputs": [
    {
     "name": "stdout",
     "output_type": "stream",
     "text": [
      "Printing 8 selected features:\n",
      "  | b | d | ð | f | g | k | m | n | p | s | ʃ | t | v | z | ʒ | θ | MI_xy\n",
      "1 | x | x | x |   | x |   | x | x |   |   |   |   | x | x | x |   | 0.8111\n",
      "2 | x | x | x | x | x |   |   |   |   | x | x |   | x | x | x | x | 0.5545\n",
      "3 | x | x | x |   | x | x |   |   | x |   |   | x | x | x | x |   | 0.5410\n",
      "4 | x |   | x | x |   | x |   |   | x |   |   | x | x |   |   | x | 0.5053\n",
      "5 | x |   | x |   |   |   | x | x |   |   | x |   | x |   |   |   | 0.4971\n",
      "6 | x |   |   |   |   | x |   |   |   | x | x | x | x | x |   |   | 0.2676\n",
      "7 | x |   |   | x |   | x | x | x |   |   |   |   |   | x | x |   | 0.2263\n",
      "8 | x |   |   | x | x |   | x |   | x | x |   |   | x |   |   |   | 0.1811\n",
      "\n",
      "----------------------------------------\n",
      "\n",
      "Pairs of items that cannot be differentiated with the selected features:\n",
      "None!\n"
     ]
    }
   ],
   "source": [
    "perception.show_selected('custom')"
   ]
  }
 ],
 "metadata": {
  "kernelspec": {
   "display_name": "Python 3",
   "language": "python",
   "name": "python3"
  },
  "language_info": {
   "codemirror_mode": {
    "name": "ipython",
    "version": 3
   },
   "file_extension": ".py",
   "mimetype": "text/x-python",
   "name": "python",
   "nbconvert_exporter": "python",
   "pygments_lexer": "ipython3",
   "version": "3.8.5"
  }
 },
 "nbformat": 4,
 "nbformat_minor": 5
}

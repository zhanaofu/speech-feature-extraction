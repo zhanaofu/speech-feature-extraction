{
 "cells": [
  {
   "cell_type": "code",
   "execution_count": 1,
   "id": "734b9dc4",
   "metadata": {},
   "outputs": [],
   "source": [
    "import numpy as np\n",
    "import pandas as pd\n",
    "from itertools import combinations, combinations_with_replacement\n",
    "from tqdm.notebook import tqdm"
   ]
  },
  {
   "cell_type": "code",
   "execution_count": 2,
   "id": "6cc3e4ca",
   "metadata": {},
   "outputs": [],
   "source": [
    "def mutual_information(matrix):\n",
    "    \"\"\"Calculating mutual information from tabulated data\"\"\"\n",
    "    total = matrix.sum()\n",
    "    flatM = matrix.ravel()\n",
    "    margin0 = matrix.sum(axis=0)\n",
    "    margin1 = matrix.sum(axis=1)\n",
    "    divisor = np.outer(margin1,margin0).ravel()\n",
    "    indices = flatM.nonzero()\n",
    "    return np.sum(flatM[indices]/total*np.log2(flatM[indices]*total/divisor[indices]))\n",
    "    \n",
    "def mutual_x_y(matrix,feature, output_grouping = True): \n",
    "    \"\"\"Tabulating data based on a feature and the outcome from the full confusion matrix. \n",
    "    If output_grouping is True, the outcome is also grouped based on the feature\"\"\"\n",
    "    if output_grouping:\n",
    "        indices0 = []\n",
    "        indices1 = []\n",
    "        for i,v in enumerate(feature):\n",
    "            if v:\n",
    "                indices1.append(i)\n",
    "            else:\n",
    "                indices0.append(i)\n",
    "\n",
    "        matrix_xy = np.array([[matrix[np.ix_(indices0,indices0)].sum(),\n",
    "                          matrix[np.ix_(indices1,indices0)].sum()],\n",
    "                         [matrix[np.ix_(indices0,indices1)].sum(),\n",
    "                          matrix[np.ix_(indices1,indices1)].sum()]])\n",
    "    else:\n",
    "        a0 = matrix[:,feature].sum(axis=1)\n",
    "        a1 = matrix[:,np.invert(feature)].sum(axis=1)\n",
    "        matrix_xy = np.vstack([a0,a1]).transpose()\n",
    "        \n",
    "    return mutual_information(matrix_xy)\n",
    "    \n",
    "\n",
    "def mutual_xi_xj(counts, indices_i1, indices_j1):\n",
    "    \"\"\"Tabulating the input based on two features\"\"\"\n",
    "    indices_i0 = np.invert(indices_i1)\n",
    "    indices_j0 = np.invert(indices_j1)\n",
    "\n",
    "    matrix_xx = np.array([[counts[indices_i0&indices_j0].sum(),\n",
    "                      counts[indices_i1&indices_j0].sum()],\n",
    "                     [counts[indices_i0&indices_j1].sum(),\n",
    "                      counts[indices_i1&indices_j1].sum()]])\n",
    "    return mutual_information(matrix_xx)\n",
    "\n",
    "\n",
    "# def mutual_xi_y_xj(counts, indices_i1, indices_j1): \n",
    "    \"\"\"Calculating conditional mutual information\"\"\"\n",
    "    #to fill\n",
    "\n",
    "def mRMR(indices, features, MI_xy,MI_xx, x_counts,k):\n",
    "    \"\"\"To minimize MI_xy - (1/k) * MI_xx (Peng et al., 2005)\"\"\"\n",
    "\n",
    "    selected = np.array([],dtype='int')\n",
    "    \n",
    "    for i in range(k):\n",
    "        best = 0\n",
    "        j_max = 0\n",
    "        for j in range(len(indices)):\n",
    "            f = indices[j]\n",
    "            j_x = MI_xy[f]\n",
    "            for s in selected:\n",
    "                if f < s:       \n",
    "                    a = f\n",
    "                    b = s\n",
    "                else:\n",
    "                    a = s\n",
    "                    b = f\n",
    "                if MI_xx[a,b] == -1:\n",
    "                    MI_xx[a,b] = mutual_xi_xj(x_counts,features[a],features[b])\n",
    "                j_x += MI_xx[s,f]\n",
    "            if j_x > j_max:\n",
    "                j_max = j_x\n",
    "                best = j\n",
    "        selected = np.append(selected, indices[best])\n",
    "        indices=np.delete(indices,best)\n",
    "    \n",
    "    return selected\n",
    "    \n",
    "    \n",
    "class confusion_matrix:\n",
    "    def __init__(self, file_path):\n",
    "        self.df = pd.read_csv(file_path, index_col=0)\n",
    "        self.df.reindex(sorted(self.df.index), axis=0)\n",
    "        self.df.reindex(sorted(self.df.columns), axis=1)\n",
    "        self.matrix = self.df.to_numpy()\n",
    "        self.x_counts = self.matrix.sum(axis=0)\n",
    "        self.n = self.matrix.shape[0]\n",
    "        self.n_features = 2**(self.n-1)\n",
    "\n",
    "\n",
    "    def select(self, feature_lim = None, k = 5, batch_size = 50, output_grouping = True):\n",
    "        \n",
    "        if k >= batch_size:\n",
    "            print('Error: Batch size is smaller than the number of features to be selected')\n",
    "        \n",
    "        self.features = np.array([[j=='1' \n",
    "                                   for j in '1'+np.binary_repr(i, width=self.n-1)] \n",
    "                                   for i in range(self.n_features)])\n",
    "        \n",
    "        print('Computing I(x;y)')\n",
    "        self.MI_xy = np.array([])\n",
    "        for i in tqdm(range(self.n_features)):\n",
    "            self.MI_xy= np.append(self.MI_xy,mutual_x_y(self.matrix,self.features[i],output_grouping))\n",
    "            \n",
    "        self.order = np.arange(self.n_features, dtype='int') #this or the commented line below\n",
    "\n",
    "# arranging features according to I(x,y) with a descending order \n",
    "#         self.order = np.argsort(self.MI_xy)\n",
    "        \n",
    "# filtering the features with I(x,y) only       \n",
    "#         if self.feature_lim & self.feature_lim >self.n_features:\n",
    "#             print('Only analyzing the {} features with the highest entropies'.format(feature_lim))\n",
    "#             self.order = self.order[:feature_lim]        \n",
    "        \n",
    "        print('Selecting features with mRMR')\n",
    "        self.MI_xx = -np.ones((len(self.features),len(self.features)))\n",
    "        self.results = np.array([],dtype='int')\n",
    "        for i in tqdm(range(np.ceil(self.n_features/batch_size).astype('int'))):\n",
    "            start = i*batch_size\n",
    "            batch = self.order[start:start+batch_size]\n",
    "            batch = np.append(batch, self.results)\n",
    "            self.results = mRMR(batch, self.features, self.MI_xy, \n",
    "                           self.MI_xx, self.x_counts,k)\n",
    "            \n",
    "            \n",
    "        \n"
   ]
  },
  {
   "cell_type": "code",
   "execution_count": 3,
   "id": "c8823bd9",
   "metadata": {},
   "outputs": [],
   "source": [
    "production = confusion_matrix('cm_production.csv')\n",
    "perception = confusion_matrix('cm_perception.csv')"
   ]
  },
  {
   "cell_type": "markdown",
   "id": "2cf8f814",
   "metadata": {},
   "source": [
    "## selection with outcomes coded with features"
   ]
  },
  {
   "cell_type": "code",
   "execution_count": 4,
   "id": "861cda75",
   "metadata": {},
   "outputs": [
    {
     "name": "stdout",
     "output_type": "stream",
     "text": [
      "Computing I(x;y)\n"
     ]
    },
    {
     "data": {
      "application/vnd.jupyter.widget-view+json": {
       "model_id": "b308a68fbbb34970bb598ef867376431",
       "version_major": 2,
       "version_minor": 0
      },
      "text/plain": [
       "  0%|          | 0/32768 [00:00<?, ?it/s]"
      ]
     },
     "metadata": {},
     "output_type": "display_data"
    },
    {
     "name": "stdout",
     "output_type": "stream",
     "text": [
      "Selecting features with mRMR\n"
     ]
    },
    {
     "data": {
      "application/vnd.jupyter.widget-view+json": {
       "model_id": "d59d579ed0ca453e9e8970bac455014a",
       "version_major": 2,
       "version_minor": 0
      },
      "text/plain": [
       "  0%|          | 0/656 [00:00<?, ?it/s]"
      ]
     },
     "metadata": {},
     "output_type": "display_data"
    }
   ],
   "source": [
    "production.select()"
   ]
  },
  {
   "cell_type": "code",
   "execution_count": 5,
   "id": "6f2a20fe",
   "metadata": {
    "scrolled": true
   },
   "outputs": [
    {
     "name": "stdout",
     "output_type": "stream",
     "text": [
      "Index(['b', 'd', 'f', 'g', 'k', 'm', 'n', 'p', 't', 'v'], dtype='object') Index(['ð', 's', 'ʃ', 'z', 'ʒ', 'θ'], dtype='object')\n",
      "Index(['b', 'd', 'ð', 'f', 'g', 'k', 'm', 'n', 'p', 't', 'v'], dtype='object') Index(['s', 'ʃ', 'z', 'ʒ', 'θ'], dtype='object')\n",
      "Index(['b', 'd', 'ð', 'f', 'g', 'k', 'm', 'n', 'p', 't', 'v', 'ʒ'], dtype='object') Index(['s', 'ʃ', 'z', 'θ'], dtype='object')\n",
      "Index(['b', 'd', 'ð', 'f', 'g', 'k', 'm', 'n', 'p', 't', 'v', 'z'], dtype='object') Index(['s', 'ʃ', 'ʒ', 'θ'], dtype='object')\n",
      "Index(['b', 'd', 'ð', 'f', 'g', 'k', 'm', 'n', 'p', 't', 'v', 'z', 'ʒ'], dtype='object') Index(['s', 'ʃ', 'θ'], dtype='object')\n"
     ]
    }
   ],
   "source": [
    "for f in production.results:\n",
    "    i = production.features[f]\n",
    "    print(production.df.index[i],production.df.index[np.invert(i)])"
   ]
  },
  {
   "cell_type": "code",
   "execution_count": 6,
   "id": "7fba4c1c",
   "metadata": {},
   "outputs": [
    {
     "name": "stdout",
     "output_type": "stream",
     "text": [
      "Computing I(x;y)\n"
     ]
    },
    {
     "data": {
      "application/vnd.jupyter.widget-view+json": {
       "model_id": "3db91002110d4d9892483673c3f32436",
       "version_major": 2,
       "version_minor": 0
      },
      "text/plain": [
       "  0%|          | 0/32768 [00:00<?, ?it/s]"
      ]
     },
     "metadata": {},
     "output_type": "display_data"
    },
    {
     "name": "stdout",
     "output_type": "stream",
     "text": [
      "Selecting features with mRMR\n"
     ]
    },
    {
     "data": {
      "application/vnd.jupyter.widget-view+json": {
       "model_id": "6cfc6a694dbd4a03ad45b2a55676e4f9",
       "version_major": 2,
       "version_minor": 0
      },
      "text/plain": [
       "  0%|          | 0/656 [00:00<?, ?it/s]"
      ]
     },
     "metadata": {},
     "output_type": "display_data"
    }
   ],
   "source": [
    "perception.select()"
   ]
  },
  {
   "cell_type": "code",
   "execution_count": 7,
   "id": "f197224f",
   "metadata": {
    "scrolled": true
   },
   "outputs": [
    {
     "name": "stdout",
     "output_type": "stream",
     "text": [
      "Index(['b', 'd', 'ð', 'g', 'm', 'n', 'v', 'z', 'ʒ'], dtype='object') Index(['f', 'k', 'p', 's', 'ʃ', 't', 'θ'], dtype='object')\n",
      "Index(['b', 'd', 'ð', 'g', 'm', 'n', 'ʃ', 'v', 'z', 'ʒ'], dtype='object') Index(['f', 'k', 'p', 's', 't', 'θ'], dtype='object')\n",
      "Index(['b', 'd', 'ð', 'g', 'm', 'n', 's', 'ʃ', 'v', 'z', 'ʒ'], dtype='object') Index(['f', 'k', 'p', 't', 'θ'], dtype='object')\n",
      "Index(['b', 'd', 'ð', 'g', 'm', 'n', 's', 'ʃ', 'v', 'z', 'ʒ', 'θ'], dtype='object') Index(['f', 'k', 'p', 't'], dtype='object')\n",
      "Index(['b', 'd', 'ð', 'g', 'm', 'n', 's', 'ʃ', 't', 'v', 'z', 'ʒ'], dtype='object') Index(['f', 'k', 'p', 'θ'], dtype='object')\n"
     ]
    }
   ],
   "source": [
    "for f in perception.results:\n",
    "    i = perception.features[f]\n",
    "    print(perception.df.index[i],perception.df.index[np.invert(i)])"
   ]
  },
  {
   "cell_type": "markdown",
   "id": "cc8aeb92",
   "metadata": {},
   "source": [
    "## selection with original outcomes"
   ]
  },
  {
   "cell_type": "code",
   "execution_count": 8,
   "id": "0ba64bfe",
   "metadata": {},
   "outputs": [],
   "source": [
    "production = confusion_matrix('cm_production.csv')\n",
    "perception = confusion_matrix('cm_perception.csv')"
   ]
  },
  {
   "cell_type": "code",
   "execution_count": 9,
   "id": "af99ff89",
   "metadata": {},
   "outputs": [
    {
     "name": "stdout",
     "output_type": "stream",
     "text": [
      "Computing I(x;y)\n"
     ]
    },
    {
     "data": {
      "application/vnd.jupyter.widget-view+json": {
       "model_id": "2b69dcf535e94da1baa159e47cb46c18",
       "version_major": 2,
       "version_minor": 0
      },
      "text/plain": [
       "  0%|          | 0/32768 [00:00<?, ?it/s]"
      ]
     },
     "metadata": {},
     "output_type": "display_data"
    },
    {
     "name": "stdout",
     "output_type": "stream",
     "text": [
      "Selecting features with mRMR\n"
     ]
    },
    {
     "data": {
      "application/vnd.jupyter.widget-view+json": {
       "model_id": "a9f67290a0e449c3b4482161d1272eee",
       "version_major": 2,
       "version_minor": 0
      },
      "text/plain": [
       "  0%|          | 0/656 [00:00<?, ?it/s]"
      ]
     },
     "metadata": {},
     "output_type": "display_data"
    }
   ],
   "source": [
    "production.select(output_grouping=False)"
   ]
  },
  {
   "cell_type": "code",
   "execution_count": 10,
   "id": "e63f9ac0",
   "metadata": {},
   "outputs": [
    {
     "name": "stdout",
     "output_type": "stream",
     "text": [
      "Index(['b', 'd', 'f', 'g', 'k', 'm', 'n', 'p', 't'], dtype='object') Index(['ð', 's', 'ʃ', 'v', 'z', 'ʒ', 'θ'], dtype='object')\n",
      "Index(['b', 'd', 'ð', 'f', 'g', 'k', 'm', 'n', 'p', 't'], dtype='object') Index(['s', 'ʃ', 'v', 'z', 'ʒ', 'θ'], dtype='object')\n",
      "Index(['b', 'd', 'ð', 'f', 'g', 'k', 'm', 'n', 'p', 't', 'ʒ'], dtype='object') Index(['s', 'ʃ', 'v', 'z', 'θ'], dtype='object')\n",
      "Index(['b', 'd', 'ð', 'f', 'g', 'k', 'm', 'n', 'p', 'ʃ', 't'], dtype='object') Index(['s', 'v', 'z', 'ʒ', 'θ'], dtype='object')\n",
      "Index(['b', 'd', 'ð', 'f', 'g', 'k', 'm', 'n', 'p', 'ʃ', 't', 'ʒ'], dtype='object') Index(['s', 'v', 'z', 'θ'], dtype='object')\n"
     ]
    }
   ],
   "source": [
    "for f in production.results:\n",
    "    i = production.features[f]\n",
    "    print(production.df.index[i],production.df.index[np.invert(i)])"
   ]
  },
  {
   "cell_type": "code",
   "execution_count": 11,
   "id": "fea26cf6",
   "metadata": {},
   "outputs": [
    {
     "name": "stdout",
     "output_type": "stream",
     "text": [
      "Computing I(x;y)\n"
     ]
    },
    {
     "data": {
      "application/vnd.jupyter.widget-view+json": {
       "model_id": "34b9afd12c8541ecbdd401299cdcc4c7",
       "version_major": 2,
       "version_minor": 0
      },
      "text/plain": [
       "  0%|          | 0/32768 [00:00<?, ?it/s]"
      ]
     },
     "metadata": {},
     "output_type": "display_data"
    },
    {
     "name": "stdout",
     "output_type": "stream",
     "text": [
      "Selecting features with mRMR\n"
     ]
    },
    {
     "data": {
      "application/vnd.jupyter.widget-view+json": {
       "model_id": "ba1f3ad0b2464ad5bc8cbe3a6d99b9a1",
       "version_major": 2,
       "version_minor": 0
      },
      "text/plain": [
       "  0%|          | 0/656 [00:00<?, ?it/s]"
      ]
     },
     "metadata": {},
     "output_type": "display_data"
    }
   ],
   "source": [
    "perception.select(output_grouping=False)"
   ]
  },
  {
   "cell_type": "code",
   "execution_count": 12,
   "id": "9c29d031",
   "metadata": {},
   "outputs": [
    {
     "name": "stdout",
     "output_type": "stream",
     "text": [
      "Index(['b', 'd', 'ð', 'g', 'm', 'n', 'v', 'z', 'ʒ'], dtype='object') Index(['f', 'k', 'p', 's', 'ʃ', 't', 'θ'], dtype='object')\n",
      "Index(['b', 'd', 'ð', 'g', 'm', 'n', 'v', 'z', 'ʒ', 'θ'], dtype='object') Index(['f', 'k', 'p', 's', 'ʃ', 't'], dtype='object')\n",
      "Index(['b', 'd', 'ð', 'g', 'm', 'n', 's', 'v', 'z', 'ʒ'], dtype='object') Index(['f', 'k', 'p', 'ʃ', 't', 'θ'], dtype='object')\n",
      "Index(['b', 'd', 'ð', 'g', 'm', 'n', 's', 'v', 'z', 'ʒ', 'θ'], dtype='object') Index(['f', 'k', 'p', 'ʃ', 't'], dtype='object')\n",
      "Index(['b', 'd', 'ð', 'g', 'm', 'n', 's', 'ʃ', 'v', 'z', 'ʒ', 'θ'], dtype='object') Index(['f', 'k', 'p', 't'], dtype='object')\n"
     ]
    }
   ],
   "source": [
    "for f in perception.results:\n",
    "    i = perception.features[f]\n",
    "    print(perception.df.index[i],perception.df.index[np.invert(i)])"
   ]
  }
 ],
 "metadata": {
  "kernelspec": {
   "display_name": "Python 3",
   "language": "python",
   "name": "python3"
  },
  "language_info": {
   "codemirror_mode": {
    "name": "ipython",
    "version": 3
   },
   "file_extension": ".py",
   "mimetype": "text/x-python",
   "name": "python",
   "nbconvert_exporter": "python",
   "pygments_lexer": "ipython3",
   "version": "3.8.5"
  }
 },
 "nbformat": 4,
 "nbformat_minor": 5
}
